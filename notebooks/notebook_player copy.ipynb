{
 "cells": [
  {
   "cell_type": "code",
   "execution_count": 1,
   "metadata": {},
   "outputs": [],
   "source": [
    "# !pip3 install -r ../requirements.txt\n",
    "\n",
    "from selenium import webdriver\n",
    "from webdriver_manager.chrome import ChromeDriverManager\n",
    "from datetime import datetime\n",
    "import pandas as pd\n",
    "import requests\n",
    "import json\n",
    "from datetime import date, datetime\n",
    "import boto3\n",
    "from io import StringIO\n",
    "from dotenv import load_dotenv\n",
    "import os\n",
    "import time"
   ]
  },
  {
   "cell_type": "code",
   "execution_count": 2,
   "metadata": {},
   "outputs": [],
   "source": [
    "load_dotenv()\n",
    "\n",
    "AWS_ACCESS_KEY_ID = os.getenv(\"AWS_ACCESS_KEY_ID\")\n",
    "AWS_SECRET_ACCESS_KEY = os.getenv(\"AWS_SECRET_ACCESS_KEY\")\n",
    "AWS_S3_BUCKET = os.getenv(\"AWS_S3_BUCKET\")"
   ]
  },
  {
   "cell_type": "code",
   "execution_count": 13,
   "metadata": {},
   "outputs": [],
   "source": [
    "s3_client = boto3.client('s3')\n",
    "\n",
    "response = s3_client.get_object(Bucket = AWS_S3_BUCKET, Key = 'raw/trackergg/matches_report/matches_result_rayzensama_20221001_171643.csv')\n",
    "\n",
    "\n",
    "data = response['Body'].read()\n",
    "\n",
    "\n",
    "data_str = data.decode('utf-8')\n",
    "data_json = json.loads(data_str)"
   ]
  },
  {
   "cell_type": "code",
   "execution_count": null,
   "metadata": {},
   "outputs": [],
   "source": [
    "data_json"
   ]
  },
  {
   "cell_type": "code",
   "execution_count": null,
   "metadata": {},
   "outputs": [],
   "source": [
    "path_read = 'raw/trackergg/matches_report/'\n",
    "path_write = 'cleaned/trackergg/matches_report/'\n",
    "s3 = boto3.resource('s3')\n",
    "bucket = s3.Bucket(AWS_S3_BUCKET)\n",
    "files = bucket.objects.filter(Prefix=path_read)\n",
    "files = list(files)\n",
    "del files[0]\n",
    "\n",
    "files"
   ]
  },
  {
   "cell_type": "code",
   "execution_count": 22,
   "metadata": {},
   "outputs": [],
   "source": [
    "df_aux = pd.DataFrame()\n",
    "for file in files:\n",
    "    file = file.key\n",
    "\n",
    "    response = s3_client.get_object(Bucket = AWS_S3_BUCKET, Key = file)\n",
    "    data = response['Body'].read()\n",
    "    data_str = data.decode('utf-8')\n",
    "    data_json = json.loads(data_str)\n",
    "\n",
    "    expiryDate : str = data_json[\"data\"][\"expiryDate\"]\n",
    "    requestingPlayerAttributes : dict = data_json[\"data\"][\"requestingPlayerAttributes\"]\n",
    "    paginationType : str = data_json[\"data\"][\"paginationType\"]\n",
    "    metadata : dict = data_json[\"data\"][\"metadata\"]\n",
    "    matches : list = data_json[\"data\"][\"matches\"]\n",
    "\n",
    "    data = []\n",
    "\n",
    "    for match in matches:\n",
    "        # data\n",
    "        attributes : dict = match[\"attributes\"]\n",
    "        match_metadata : dict = match[\"metadata\"]\n",
    "        expiryDate : str = match[\"expiryDate\"]\n",
    "        \n",
    "        # more data\n",
    "        segments : list = match[\"segments\"]\n",
    "        for segment in segments:\n",
    "            # data\n",
    "            segment_type: str = segment[\"type\"]\n",
    "            attributes : dict = segment[\"attributes\"]\n",
    "            segment_metadata : dict = segment[\"metadata\"]\n",
    "            expiryDate : str = segment[\"expiryDate\"]\n",
    "            \n",
    "            # more data\n",
    "            stat_dict = {}\n",
    "            stats : dict = segment[\"stats\"]\n",
    "            for stat, stat_data in stats.items():\n",
    "                stat_keys = stat_data.keys()\n",
    "                stat_columns = [f'{stat}_{col}' for col in stat_keys]\n",
    "                stat_values = stat_data.values()\n",
    "                _stat_dict = {k: v for k, v in zip(stat_columns, stat_values)}\n",
    "                stat_dict.update(_stat_dict)\n",
    "\n",
    "            row = {}\n",
    "            row.update(attributes)\n",
    "            row.update(match_metadata)\n",
    "            row[\"expiryDate\"] = expiryDate\n",
    "\n",
    "            row[\"segment_type\"] = segment_type\n",
    "            row.update(attributes)\n",
    "            row.update(segment_metadata)\n",
    "            row[\"expiryDate\"] = expiryDate\n",
    "\n",
    "            row.update(stat_dict)\n",
    "\n",
    "            data.append(row)\n",
    "\n",
    "    \n",
    "    columns = data[0].keys()\n",
    "    df = pd.DataFrame(data, columns=columns)\n",
    "    df_aux = pd.concat([df_aux, df], axis = 0)\n",
    "\n",
    "date = datetime.now().strftime(\"_%Y%m%d_%H%M%S\")\n",
    "file_name = 'matches_result_rayzensama{}{}'.format(date, '.csv')\n",
    "input = path_write + file_name\n",
    "\n",
    "# input = path_write + file_name + file_name\n",
    "\n",
    "df_final = pd.concat([df_aux, df_aux['rank_metadata'].apply(pd.Series)], axis=1)\n",
    "\n",
    "data_final = df_final.to_csv()\n",
    "\n",
    "s3_client.put_object(Bucket = AWS_S3_BUCKET, Body = data_final, Key = input)  "
   ]
  },
  {
   "cell_type": "code",
   "execution_count": null,
   "metadata": {},
   "outputs": [],
   "source": [
    "df_teste = pd.concat([df_aux, df_aux['rank_metadata'].apply(pd.Series)], axis=1)\n",
    "\n",
    "df_teste"
   ]
  },
  {
   "cell_type": "code",
   "execution_count": 170,
   "metadata": {},
   "outputs": [],
   "source": [
    "df_aux.to_csv('data.csv')"
   ]
  }
 ],
 "metadata": {
  "kernelspec": {
   "display_name": "Python 3.10.7 64-bit (microsoft store)",
   "language": "python",
   "name": "python3"
  },
  "language_info": {
   "codemirror_mode": {
    "name": "ipython",
    "version": 3
   },
   "file_extension": ".py",
   "mimetype": "text/x-python",
   "name": "python",
   "nbconvert_exporter": "python",
   "pygments_lexer": "ipython3",
   "version": "3.10.7"
  },
  "orig_nbformat": 4,
  "vscode": {
   "interpreter": {
    "hash": "97cba5719d159acad27bb7f37d182d27b1d38df28115fbd0d331121e7aca3605"
   }
  }
 },
 "nbformat": 4,
 "nbformat_minor": 2
}
